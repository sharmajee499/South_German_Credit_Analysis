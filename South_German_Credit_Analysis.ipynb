{
 "cells": [
  {
   "cell_type": "code",
   "execution_count": 161,
   "metadata": {},
   "outputs": [],
   "source": [
    "#Importing the libraries and the dataset\n",
    "import numpy as np\n",
    "import pandas as pd\n",
    "import seaborn as sns\n",
    "import matplotlib.pyplot as plt"
   ]
  },
  {
   "cell_type": "code",
   "execution_count": 162,
   "metadata": {},
   "outputs": [
    {
     "data": {
      "text/html": [
       "<div>\n",
       "<style scoped>\n",
       "    .dataframe tbody tr th:only-of-type {\n",
       "        vertical-align: middle;\n",
       "    }\n",
       "\n",
       "    .dataframe tbody tr th {\n",
       "        vertical-align: top;\n",
       "    }\n",
       "\n",
       "    .dataframe thead th {\n",
       "        text-align: right;\n",
       "    }\n",
       "</style>\n",
       "<table border=\"1\" class=\"dataframe\">\n",
       "  <thead>\n",
       "    <tr style=\"text-align: right;\">\n",
       "      <th></th>\n",
       "      <th>laufkont</th>\n",
       "      <th>laufzeit</th>\n",
       "      <th>moral</th>\n",
       "      <th>verw</th>\n",
       "      <th>hoehe</th>\n",
       "      <th>sparkont</th>\n",
       "      <th>beszeit</th>\n",
       "      <th>rate</th>\n",
       "      <th>famges</th>\n",
       "      <th>buerge</th>\n",
       "      <th>...</th>\n",
       "      <th>verm</th>\n",
       "      <th>alter</th>\n",
       "      <th>weitkred</th>\n",
       "      <th>wohn</th>\n",
       "      <th>bishkred</th>\n",
       "      <th>beruf</th>\n",
       "      <th>pers</th>\n",
       "      <th>telef</th>\n",
       "      <th>gastarb</th>\n",
       "      <th>kredit</th>\n",
       "    </tr>\n",
       "  </thead>\n",
       "  <tbody>\n",
       "    <tr>\n",
       "      <th>0</th>\n",
       "      <td>1</td>\n",
       "      <td>18</td>\n",
       "      <td>4</td>\n",
       "      <td>2</td>\n",
       "      <td>1049</td>\n",
       "      <td>1</td>\n",
       "      <td>2</td>\n",
       "      <td>4</td>\n",
       "      <td>2</td>\n",
       "      <td>1</td>\n",
       "      <td>...</td>\n",
       "      <td>2</td>\n",
       "      <td>21</td>\n",
       "      <td>3</td>\n",
       "      <td>1</td>\n",
       "      <td>1</td>\n",
       "      <td>3</td>\n",
       "      <td>2</td>\n",
       "      <td>1</td>\n",
       "      <td>2</td>\n",
       "      <td>1</td>\n",
       "    </tr>\n",
       "    <tr>\n",
       "      <th>1</th>\n",
       "      <td>1</td>\n",
       "      <td>9</td>\n",
       "      <td>4</td>\n",
       "      <td>0</td>\n",
       "      <td>2799</td>\n",
       "      <td>1</td>\n",
       "      <td>3</td>\n",
       "      <td>2</td>\n",
       "      <td>3</td>\n",
       "      <td>1</td>\n",
       "      <td>...</td>\n",
       "      <td>1</td>\n",
       "      <td>36</td>\n",
       "      <td>3</td>\n",
       "      <td>1</td>\n",
       "      <td>2</td>\n",
       "      <td>3</td>\n",
       "      <td>1</td>\n",
       "      <td>1</td>\n",
       "      <td>2</td>\n",
       "      <td>1</td>\n",
       "    </tr>\n",
       "    <tr>\n",
       "      <th>2</th>\n",
       "      <td>2</td>\n",
       "      <td>12</td>\n",
       "      <td>2</td>\n",
       "      <td>9</td>\n",
       "      <td>841</td>\n",
       "      <td>2</td>\n",
       "      <td>4</td>\n",
       "      <td>2</td>\n",
       "      <td>2</td>\n",
       "      <td>1</td>\n",
       "      <td>...</td>\n",
       "      <td>1</td>\n",
       "      <td>23</td>\n",
       "      <td>3</td>\n",
       "      <td>1</td>\n",
       "      <td>1</td>\n",
       "      <td>2</td>\n",
       "      <td>2</td>\n",
       "      <td>1</td>\n",
       "      <td>2</td>\n",
       "      <td>1</td>\n",
       "    </tr>\n",
       "    <tr>\n",
       "      <th>3</th>\n",
       "      <td>1</td>\n",
       "      <td>12</td>\n",
       "      <td>4</td>\n",
       "      <td>0</td>\n",
       "      <td>2122</td>\n",
       "      <td>1</td>\n",
       "      <td>3</td>\n",
       "      <td>3</td>\n",
       "      <td>3</td>\n",
       "      <td>1</td>\n",
       "      <td>...</td>\n",
       "      <td>1</td>\n",
       "      <td>39</td>\n",
       "      <td>3</td>\n",
       "      <td>1</td>\n",
       "      <td>2</td>\n",
       "      <td>2</td>\n",
       "      <td>1</td>\n",
       "      <td>1</td>\n",
       "      <td>1</td>\n",
       "      <td>1</td>\n",
       "    </tr>\n",
       "    <tr>\n",
       "      <th>4</th>\n",
       "      <td>1</td>\n",
       "      <td>12</td>\n",
       "      <td>4</td>\n",
       "      <td>0</td>\n",
       "      <td>2171</td>\n",
       "      <td>1</td>\n",
       "      <td>3</td>\n",
       "      <td>4</td>\n",
       "      <td>3</td>\n",
       "      <td>1</td>\n",
       "      <td>...</td>\n",
       "      <td>2</td>\n",
       "      <td>38</td>\n",
       "      <td>1</td>\n",
       "      <td>2</td>\n",
       "      <td>2</td>\n",
       "      <td>2</td>\n",
       "      <td>2</td>\n",
       "      <td>1</td>\n",
       "      <td>1</td>\n",
       "      <td>1</td>\n",
       "    </tr>\n",
       "  </tbody>\n",
       "</table>\n",
       "<p>5 rows × 21 columns</p>\n",
       "</div>"
      ],
      "text/plain": [
       "   laufkont  laufzeit  moral  verw  hoehe  sparkont  beszeit  rate  famges  \\\n",
       "0         1        18      4     2   1049         1        2     4       2   \n",
       "1         1         9      4     0   2799         1        3     2       3   \n",
       "2         2        12      2     9    841         2        4     2       2   \n",
       "3         1        12      4     0   2122         1        3     3       3   \n",
       "4         1        12      4     0   2171         1        3     4       3   \n",
       "\n",
       "   buerge  ...  verm  alter  weitkred  wohn  bishkred  beruf  pers  telef  \\\n",
       "0       1  ...     2     21         3     1         1      3     2      1   \n",
       "1       1  ...     1     36         3     1         2      3     1      1   \n",
       "2       1  ...     1     23         3     1         1      2     2      1   \n",
       "3       1  ...     1     39         3     1         2      2     1      1   \n",
       "4       1  ...     2     38         1     2         2      2     2      1   \n",
       "\n",
       "   gastarb  kredit  \n",
       "0        2       1  \n",
       "1        2       1  \n",
       "2        2       1  \n",
       "3        1       1  \n",
       "4        1       1  \n",
       "\n",
       "[5 rows x 21 columns]"
      ]
     },
     "execution_count": 162,
     "metadata": {},
     "output_type": "execute_result"
    }
   ],
   "source": [
    "#importing the dataset\n",
    "data= pd.read_csv('SouthGermanCredit_Data.txt',sep=\" \")\n",
    "data.head()"
   ]
  },
  {
   "cell_type": "markdown",
   "metadata": {},
   "source": [
    "## Pre-Processing the Data"
   ]
  },
  {
   "cell_type": "code",
   "execution_count": 163,
   "metadata": {},
   "outputs": [],
   "source": [
    "#Changing the column name of data. From German to English.This info was on the given data.\n",
    "new_column_name=['status','duration','credit_history','purpose','amount','savings','employment_duration','installment_rate','personal_status_sex','other_debtor','present_residence','property','age',\n",
    "                 'other_installment_plans','housing','number_credits','job','people_liable','telephone','foreign_worker','credit_risk']\n",
    "data.columns= new_column_name"
   ]
  },
  {
   "cell_type": "code",
   "execution_count": 164,
   "metadata": {},
   "outputs": [
    {
     "name": "stdout",
     "output_type": "stream",
     "text": [
      "<class 'pandas.core.frame.DataFrame'>\n",
      "RangeIndex: 1000 entries, 0 to 999\n",
      "Data columns (total 21 columns):\n",
      " #   Column                   Non-Null Count  Dtype\n",
      "---  ------                   --------------  -----\n",
      " 0   status                   1000 non-null   int64\n",
      " 1   duration                 1000 non-null   int64\n",
      " 2   credit_history           1000 non-null   int64\n",
      " 3   purpose                  1000 non-null   int64\n",
      " 4   amount                   1000 non-null   int64\n",
      " 5   savings                  1000 non-null   int64\n",
      " 6   employment_duration      1000 non-null   int64\n",
      " 7   installment_rate         1000 non-null   int64\n",
      " 8   personal_status_sex      1000 non-null   int64\n",
      " 9   other_debtor             1000 non-null   int64\n",
      " 10  present_residence        1000 non-null   int64\n",
      " 11  property                 1000 non-null   int64\n",
      " 12  age                      1000 non-null   int64\n",
      " 13  other_installment_plans  1000 non-null   int64\n",
      " 14  housing                  1000 non-null   int64\n",
      " 15  number_credits           1000 non-null   int64\n",
      " 16  job                      1000 non-null   int64\n",
      " 17  people_liable            1000 non-null   int64\n",
      " 18  telephone                1000 non-null   int64\n",
      " 19  foreign_worker           1000 non-null   int64\n",
      " 20  credit_risk              1000 non-null   int64\n",
      "dtypes: int64(21)\n",
      "memory usage: 164.2 KB\n"
     ]
    }
   ],
   "source": [
    "#Looking the descriptive stat of data\n",
    "data.info()\n",
    "#there are no null values"
   ]
  },
  {
   "cell_type": "code",
   "execution_count": 165,
   "metadata": {},
   "outputs": [
    {
     "data": {
      "text/html": [
       "<div>\n",
       "<style scoped>\n",
       "    .dataframe tbody tr th:only-of-type {\n",
       "        vertical-align: middle;\n",
       "    }\n",
       "\n",
       "    .dataframe tbody tr th {\n",
       "        vertical-align: top;\n",
       "    }\n",
       "\n",
       "    .dataframe thead th {\n",
       "        text-align: right;\n",
       "    }\n",
       "</style>\n",
       "<table border=\"1\" class=\"dataframe\">\n",
       "  <thead>\n",
       "    <tr style=\"text-align: right;\">\n",
       "      <th></th>\n",
       "      <th>status</th>\n",
       "      <th>duration</th>\n",
       "      <th>credit_history</th>\n",
       "      <th>purpose</th>\n",
       "      <th>amount</th>\n",
       "      <th>savings</th>\n",
       "      <th>employment_duration</th>\n",
       "      <th>installment_rate</th>\n",
       "      <th>personal_status_sex</th>\n",
       "      <th>other_debtor</th>\n",
       "      <th>...</th>\n",
       "      <th>property</th>\n",
       "      <th>age</th>\n",
       "      <th>other_installment_plans</th>\n",
       "      <th>housing</th>\n",
       "      <th>number_credits</th>\n",
       "      <th>job</th>\n",
       "      <th>people_liable</th>\n",
       "      <th>telephone</th>\n",
       "      <th>foreign_worker</th>\n",
       "      <th>credit_risk</th>\n",
       "    </tr>\n",
       "  </thead>\n",
       "  <tbody>\n",
       "    <tr>\n",
       "      <th>count</th>\n",
       "      <td>1000.000000</td>\n",
       "      <td>1000.000000</td>\n",
       "      <td>1000.00000</td>\n",
       "      <td>1000.000000</td>\n",
       "      <td>1000.00000</td>\n",
       "      <td>1000.000000</td>\n",
       "      <td>1000.000000</td>\n",
       "      <td>1000.000000</td>\n",
       "      <td>1000.00000</td>\n",
       "      <td>1000.000000</td>\n",
       "      <td>...</td>\n",
       "      <td>1000.000000</td>\n",
       "      <td>1000.00000</td>\n",
       "      <td>1000.000000</td>\n",
       "      <td>1000.000000</td>\n",
       "      <td>1000.000000</td>\n",
       "      <td>1000.000000</td>\n",
       "      <td>1000.000000</td>\n",
       "      <td>1000.000000</td>\n",
       "      <td>1000.000000</td>\n",
       "      <td>1000.000000</td>\n",
       "    </tr>\n",
       "    <tr>\n",
       "      <th>mean</th>\n",
       "      <td>2.577000</td>\n",
       "      <td>20.903000</td>\n",
       "      <td>2.54500</td>\n",
       "      <td>2.828000</td>\n",
       "      <td>3271.24800</td>\n",
       "      <td>2.105000</td>\n",
       "      <td>3.384000</td>\n",
       "      <td>2.973000</td>\n",
       "      <td>2.68200</td>\n",
       "      <td>1.145000</td>\n",
       "      <td>...</td>\n",
       "      <td>2.358000</td>\n",
       "      <td>35.54200</td>\n",
       "      <td>2.675000</td>\n",
       "      <td>1.928000</td>\n",
       "      <td>1.407000</td>\n",
       "      <td>2.904000</td>\n",
       "      <td>1.845000</td>\n",
       "      <td>1.404000</td>\n",
       "      <td>1.963000</td>\n",
       "      <td>0.700000</td>\n",
       "    </tr>\n",
       "    <tr>\n",
       "      <th>std</th>\n",
       "      <td>1.257638</td>\n",
       "      <td>12.058814</td>\n",
       "      <td>1.08312</td>\n",
       "      <td>2.744439</td>\n",
       "      <td>2822.75176</td>\n",
       "      <td>1.580023</td>\n",
       "      <td>1.208306</td>\n",
       "      <td>1.118715</td>\n",
       "      <td>0.70808</td>\n",
       "      <td>0.477706</td>\n",
       "      <td>...</td>\n",
       "      <td>1.050209</td>\n",
       "      <td>11.35267</td>\n",
       "      <td>0.705601</td>\n",
       "      <td>0.530186</td>\n",
       "      <td>0.577654</td>\n",
       "      <td>0.653614</td>\n",
       "      <td>0.362086</td>\n",
       "      <td>0.490943</td>\n",
       "      <td>0.188856</td>\n",
       "      <td>0.458487</td>\n",
       "    </tr>\n",
       "    <tr>\n",
       "      <th>min</th>\n",
       "      <td>1.000000</td>\n",
       "      <td>4.000000</td>\n",
       "      <td>0.00000</td>\n",
       "      <td>0.000000</td>\n",
       "      <td>250.00000</td>\n",
       "      <td>1.000000</td>\n",
       "      <td>1.000000</td>\n",
       "      <td>1.000000</td>\n",
       "      <td>1.00000</td>\n",
       "      <td>1.000000</td>\n",
       "      <td>...</td>\n",
       "      <td>1.000000</td>\n",
       "      <td>19.00000</td>\n",
       "      <td>1.000000</td>\n",
       "      <td>1.000000</td>\n",
       "      <td>1.000000</td>\n",
       "      <td>1.000000</td>\n",
       "      <td>1.000000</td>\n",
       "      <td>1.000000</td>\n",
       "      <td>1.000000</td>\n",
       "      <td>0.000000</td>\n",
       "    </tr>\n",
       "    <tr>\n",
       "      <th>25%</th>\n",
       "      <td>1.000000</td>\n",
       "      <td>12.000000</td>\n",
       "      <td>2.00000</td>\n",
       "      <td>1.000000</td>\n",
       "      <td>1365.50000</td>\n",
       "      <td>1.000000</td>\n",
       "      <td>3.000000</td>\n",
       "      <td>2.000000</td>\n",
       "      <td>2.00000</td>\n",
       "      <td>1.000000</td>\n",
       "      <td>...</td>\n",
       "      <td>1.000000</td>\n",
       "      <td>27.00000</td>\n",
       "      <td>3.000000</td>\n",
       "      <td>2.000000</td>\n",
       "      <td>1.000000</td>\n",
       "      <td>3.000000</td>\n",
       "      <td>2.000000</td>\n",
       "      <td>1.000000</td>\n",
       "      <td>2.000000</td>\n",
       "      <td>0.000000</td>\n",
       "    </tr>\n",
       "    <tr>\n",
       "      <th>50%</th>\n",
       "      <td>2.000000</td>\n",
       "      <td>18.000000</td>\n",
       "      <td>2.00000</td>\n",
       "      <td>2.000000</td>\n",
       "      <td>2319.50000</td>\n",
       "      <td>1.000000</td>\n",
       "      <td>3.000000</td>\n",
       "      <td>3.000000</td>\n",
       "      <td>3.00000</td>\n",
       "      <td>1.000000</td>\n",
       "      <td>...</td>\n",
       "      <td>2.000000</td>\n",
       "      <td>33.00000</td>\n",
       "      <td>3.000000</td>\n",
       "      <td>2.000000</td>\n",
       "      <td>1.000000</td>\n",
       "      <td>3.000000</td>\n",
       "      <td>2.000000</td>\n",
       "      <td>1.000000</td>\n",
       "      <td>2.000000</td>\n",
       "      <td>1.000000</td>\n",
       "    </tr>\n",
       "    <tr>\n",
       "      <th>75%</th>\n",
       "      <td>4.000000</td>\n",
       "      <td>24.000000</td>\n",
       "      <td>4.00000</td>\n",
       "      <td>3.000000</td>\n",
       "      <td>3972.25000</td>\n",
       "      <td>3.000000</td>\n",
       "      <td>5.000000</td>\n",
       "      <td>4.000000</td>\n",
       "      <td>3.00000</td>\n",
       "      <td>1.000000</td>\n",
       "      <td>...</td>\n",
       "      <td>3.000000</td>\n",
       "      <td>42.00000</td>\n",
       "      <td>3.000000</td>\n",
       "      <td>2.000000</td>\n",
       "      <td>2.000000</td>\n",
       "      <td>3.000000</td>\n",
       "      <td>2.000000</td>\n",
       "      <td>2.000000</td>\n",
       "      <td>2.000000</td>\n",
       "      <td>1.000000</td>\n",
       "    </tr>\n",
       "    <tr>\n",
       "      <th>max</th>\n",
       "      <td>4.000000</td>\n",
       "      <td>72.000000</td>\n",
       "      <td>4.00000</td>\n",
       "      <td>10.000000</td>\n",
       "      <td>18424.00000</td>\n",
       "      <td>5.000000</td>\n",
       "      <td>5.000000</td>\n",
       "      <td>4.000000</td>\n",
       "      <td>4.00000</td>\n",
       "      <td>3.000000</td>\n",
       "      <td>...</td>\n",
       "      <td>4.000000</td>\n",
       "      <td>75.00000</td>\n",
       "      <td>3.000000</td>\n",
       "      <td>3.000000</td>\n",
       "      <td>4.000000</td>\n",
       "      <td>4.000000</td>\n",
       "      <td>2.000000</td>\n",
       "      <td>2.000000</td>\n",
       "      <td>2.000000</td>\n",
       "      <td>1.000000</td>\n",
       "    </tr>\n",
       "  </tbody>\n",
       "</table>\n",
       "<p>8 rows × 21 columns</p>\n",
       "</div>"
      ],
      "text/plain": [
       "            status     duration  credit_history      purpose       amount  \\\n",
       "count  1000.000000  1000.000000      1000.00000  1000.000000   1000.00000   \n",
       "mean      2.577000    20.903000         2.54500     2.828000   3271.24800   \n",
       "std       1.257638    12.058814         1.08312     2.744439   2822.75176   \n",
       "min       1.000000     4.000000         0.00000     0.000000    250.00000   \n",
       "25%       1.000000    12.000000         2.00000     1.000000   1365.50000   \n",
       "50%       2.000000    18.000000         2.00000     2.000000   2319.50000   \n",
       "75%       4.000000    24.000000         4.00000     3.000000   3972.25000   \n",
       "max       4.000000    72.000000         4.00000    10.000000  18424.00000   \n",
       "\n",
       "           savings  employment_duration  installment_rate  \\\n",
       "count  1000.000000          1000.000000       1000.000000   \n",
       "mean      2.105000             3.384000          2.973000   \n",
       "std       1.580023             1.208306          1.118715   \n",
       "min       1.000000             1.000000          1.000000   \n",
       "25%       1.000000             3.000000          2.000000   \n",
       "50%       1.000000             3.000000          3.000000   \n",
       "75%       3.000000             5.000000          4.000000   \n",
       "max       5.000000             5.000000          4.000000   \n",
       "\n",
       "       personal_status_sex  other_debtor  ...     property         age  \\\n",
       "count           1000.00000   1000.000000  ...  1000.000000  1000.00000   \n",
       "mean               2.68200      1.145000  ...     2.358000    35.54200   \n",
       "std                0.70808      0.477706  ...     1.050209    11.35267   \n",
       "min                1.00000      1.000000  ...     1.000000    19.00000   \n",
       "25%                2.00000      1.000000  ...     1.000000    27.00000   \n",
       "50%                3.00000      1.000000  ...     2.000000    33.00000   \n",
       "75%                3.00000      1.000000  ...     3.000000    42.00000   \n",
       "max                4.00000      3.000000  ...     4.000000    75.00000   \n",
       "\n",
       "       other_installment_plans      housing  number_credits          job  \\\n",
       "count              1000.000000  1000.000000     1000.000000  1000.000000   \n",
       "mean                  2.675000     1.928000        1.407000     2.904000   \n",
       "std                   0.705601     0.530186        0.577654     0.653614   \n",
       "min                   1.000000     1.000000        1.000000     1.000000   \n",
       "25%                   3.000000     2.000000        1.000000     3.000000   \n",
       "50%                   3.000000     2.000000        1.000000     3.000000   \n",
       "75%                   3.000000     2.000000        2.000000     3.000000   \n",
       "max                   3.000000     3.000000        4.000000     4.000000   \n",
       "\n",
       "       people_liable    telephone  foreign_worker  credit_risk  \n",
       "count    1000.000000  1000.000000     1000.000000  1000.000000  \n",
       "mean        1.845000     1.404000        1.963000     0.700000  \n",
       "std         0.362086     0.490943        0.188856     0.458487  \n",
       "min         1.000000     1.000000        1.000000     0.000000  \n",
       "25%         2.000000     1.000000        2.000000     0.000000  \n",
       "50%         2.000000     1.000000        2.000000     1.000000  \n",
       "75%         2.000000     2.000000        2.000000     1.000000  \n",
       "max         2.000000     2.000000        2.000000     1.000000  \n",
       "\n",
       "[8 rows x 21 columns]"
      ]
     },
     "execution_count": 165,
     "metadata": {},
     "output_type": "execute_result"
    }
   ],
   "source": [
    "data.describe()"
   ]
  },
  {
   "cell_type": "markdown",
   "metadata": {},
   "source": [
    "## Ploting the EDA"
   ]
  },
  {
   "cell_type": "code",
   "execution_count": 166,
   "metadata": {},
   "outputs": [],
   "source": [
    "#sns.set_theme(style='ticks')\n",
    "#sns.pairplot(data.iloc[:,15:],hue='credit_risk')"
   ]
  },
  {
   "cell_type": "code",
   "execution_count": 167,
   "metadata": {},
   "outputs": [
    {
     "data": {
      "text/plain": [
       "<AxesSubplot:xlabel='age'>"
      ]
     },
     "execution_count": 167,
     "metadata": {},
     "output_type": "execute_result"
    },
    {
     "data": {
      "image/png": "[encoded data removed]",
      "text/plain": [
       "<Figure size 432x288 with 1 Axes>"
      ]
     },
     "metadata": {
      "needs_background": "light"
     },
     "output_type": "display_data"
    }
   ],
   "source": [
    "sns.boxplot(x=data['age'], hue=data['credit_risk'])"
   ]
  },
  {
   "cell_type": "code",
   "execution_count": 168,
   "metadata": {},
   "outputs": [
    {
     "data": {
      "text/plain": [
       "Text(0.5, 0, 'Credit Risk')"
      ]
     },
     "execution_count": 168,
     "metadata": {},
     "output_type": "execute_result"
    },
    {
     "data": {
      "image/png": "[encoded data removed]",
      "text/plain": [
       "<Figure size 432x288 with 1 Axes>"
      ]
     },
     "metadata": {
      "needs_background": "light"
     },
     "output_type": "display_data"
    }
   ],
   "source": [
    "sns.countplot(x=data['credit_risk'])\n",
    "plt.ylabel(\"Count of the Bad And Good Credit\")\n",
    "plt.xlabel(\"Credit Risk\")\n",
    "#The data is imbalanced as we can see from below graph of 700 good and 300 bad credits"
   ]
  },
  {
   "cell_type": "code",
   "execution_count": 169,
   "metadata": {},
   "outputs": [
    {
     "data": {
      "image/png": "[encoded data removed]",
      "text/plain": [
       "<Figure size 432x288 with 1 Axes>"
      ]
     },
     "metadata": {
      "needs_background": "light"
     },
     "output_type": "display_data"
    }
   ],
   "source": [
    "sns.countplot(y=data['personal_status_sex'], hue=data['credit_risk'])\n",
    "plt.yticks([0,1,2,3], labels=['male:divorced/seperated','female:non-single or male', 'male:married/widowed','female:single'], rotation=20)\n",
    "plt.show()"
   ]
  },
  {
   "cell_type": "code",
   "execution_count": 171,
   "metadata": {},
   "outputs": [],
   "source": [
    "#dividing the data into test and train(Without any over or under sampling, however stratifying)\n",
    "X=data.drop(columns='credit_risk')\n",
    "y= data['credit_risk']\n",
    "\n",
    "from sklearn.model_selection import train_test_split\n",
    "X_train, X_test, y_train, y_test= train_test_split(X,y,stratify=y,random_state=123)"
   ]
  },
  {
   "cell_type": "markdown",
   "metadata": {},
   "source": [
    "## Modeling with Decision Tree (Plain)\n",
    "##### Without any pruning and processing"
   ]
  },
  {
   "cell_type": "code",
   "execution_count": 172,
   "metadata": {},
   "outputs": [],
   "source": [
    "from sklearn.tree import DecisionTreeClassifier\n",
    "clf1= DecisionTreeClassifier()\n",
    "model1= clf1.fit(X_train, y_train)"
   ]
  },
  {
   "cell_type": "code",
   "execution_count": 173,
   "metadata": {},
   "outputs": [
    {
     "name": "stdout",
     "output_type": "stream",
     "text": [
      "              precision    recall  f1-score   support\n",
      "\n",
      "           0       0.51      0.56      0.54        75\n",
      "           1       0.80      0.77      0.79       175\n",
      "\n",
      "    accuracy                           0.71       250\n",
      "   macro avg       0.66      0.67      0.66       250\n",
      "weighted avg       0.72      0.71      0.71       250\n",
      "\n"
     ]
    },
    {
     "data": {
      "image/png": "[encoded data removed]",
      "text/plain": [
       "<Figure size 432x288 with 2 Axes>"
      ]
     },
     "metadata": {
      "needs_background": "light"
     },
     "output_type": "display_data"
    }
   ],
   "source": [
    "#claculating the accuracy and other metrices\n",
    "from sklearn.metrics import plot_confusion_matrix\n",
    "from sklearn.metrics import classification_report\n",
    "\n",
    "y_pred= clf1.predict(X_test)\n",
    "\n",
    "print(classification_report(y_test, y_pred))\n",
    "\n",
    "plot_confusion_matrix(clf1,X_test, y_test)\n",
    "plt.show()"
   ]
  },
  {
   "cell_type": "code",
   "execution_count": 174,
   "metadata": {},
   "outputs": [
    {
     "data": {
      "image/png": "[encoded data removed]",
      "text/plain": [
       "<Figure size 432x288 with 1 Axes>"
      ]
     },
     "metadata": {
      "needs_background": "light"
     },
     "output_type": "display_data"
    }
   ],
   "source": [
    "#ROC curve for Model1\n",
    "from sklearn.metrics import plot_roc_curve\n",
    "plot_roc_curve(clf1,X_test, y_test)\n",
    "plt.show()"
   ]
  },
  {
   "cell_type": "markdown",
   "metadata": {},
   "source": [
    "### Conclusion  Model 1\n",
    "The accuracy without the over or under sampling, without pruning or any hyper parameter optimized is **71%**"
   ]
  },
  {
   "cell_type": "markdown",
   "metadata": {},
   "source": [
    "## Model 2 ( Model 1 tree with pruning and tuning hyperparameters)"
   ]
  },
  {
   "cell_type": "markdown",
   "metadata": {},
   "source": [
    "### Using Grid Search CV"
   ]
  },
  {
   "cell_type": "code",
   "execution_count": 175,
   "metadata": {},
   "outputs": [],
   "source": [
    "#parameter for the Grid Search CV\n",
    "param={'max_depth':np.linspace(1,32,32, dtype=int),\n",
    "      'criterion':['entropy'],\n",
    "      'min_samples_split':np.linspace(0.1,1,10),\n",
    "      'max_features':['auto','sqrt','log2'],\n",
    "      'min_samples_leaf': np.linspace(0.1,0.5,5),\n",
    "      'max_features':['auto', 'sqrt', 'log2'],\n",
    "      'random_state':[1234]}"
   ]
  },
  {
   "cell_type": "code",
   "execution_count": 176,
   "metadata": {},
   "outputs": [
    {
     "data": {
      "text/plain": [
       "GridSearchCV(cv=5, estimator=DecisionTreeClassifier(), n_jobs=-1,\n",
       "             param_grid={'criterion': ['entropy'],\n",
       "                         'max_depth': array([ 1,  2,  3,  4,  5,  6,  7,  8,  9, 10, 11, 12, 13, 14, 15, 16, 17,\n",
       "       18, 19, 20, 21, 22, 23, 24, 25, 26, 27, 28, 29, 30, 31, 32]),\n",
       "                         'max_features': ['auto', 'sqrt', 'log2'],\n",
       "                         'min_samples_leaf': array([0.1, 0.2, 0.3, 0.4, 0.5]),\n",
       "                         'min_samples_split': array([0.1, 0.2, 0.3, 0.4, 0.5, 0.6, 0.7, 0.8, 0.9, 1. ]),\n",
       "                         'random_state': [1234]})"
      ]
     },
     "execution_count": 176,
     "metadata": {},
     "output_type": "execute_result"
    }
   ],
   "source": [
    "#clf2 with grid search cv\n",
    "from sklearn.model_selection import GridSearchCV\n",
    "\n",
    "dec_tre= DecisionTreeClassifier()\n",
    "clf2= GridSearchCV(dec_tre, param, verbose=0,n_jobs=-1,cv=5)\n",
    "clf2.fit(X_train,y_train)"
   ]
  },
  {
   "cell_type": "code",
   "execution_count": 177,
   "metadata": {},
   "outputs": [
    {
     "data": {
      "text/plain": [
       "{'criterion': 'entropy',\n",
       " 'max_depth': 2,\n",
       " 'max_features': 'auto',\n",
       " 'min_samples_leaf': 0.1,\n",
       " 'min_samples_split': 0.7000000000000001,\n",
       " 'random_state': 1234}"
      ]
     },
     "execution_count": 177,
     "metadata": {},
     "output_type": "execute_result"
    }
   ],
   "source": [
    "clf2.best_params_"
   ]
  },
  {
   "cell_type": "code",
   "execution_count": 178,
   "metadata": {},
   "outputs": [
    {
     "name": "stdout",
     "output_type": "stream",
     "text": [
      "              precision    recall  f1-score   support\n",
      "\n",
      "           0       0.33      0.11      0.16        75\n",
      "           1       0.70      0.91      0.79       175\n",
      "\n",
      "    accuracy                           0.67       250\n",
      "   macro avg       0.52      0.51      0.48       250\n",
      "weighted avg       0.59      0.67      0.60       250\n",
      "\n"
     ]
    },
    {
     "data": {
      "image/png": "[encoded data removed]",
      "text/plain": [
       "<Figure size 432x288 with 2 Axes>"
      ]
     },
     "metadata": {
      "needs_background": "light"
     },
     "output_type": "display_data"
    }
   ],
   "source": [
    "y_pred= clf2.predict(X_test)\n",
    "\n",
    "print(classification_report(y_test, y_pred))\n",
    "\n",
    "plot_confusion_matrix(clf2,X_test, y_test)\n",
    "plt.show()"
   ]
  },
  {
   "cell_type": "code",
   "execution_count": 179,
   "metadata": {},
   "outputs": [
    {
     "data": {
      "image/png": "[encoded data removed]",
      "text/plain": [
       "<Figure size 432x288 with 1 Axes>"
      ]
     },
     "metadata": {
      "needs_background": "light"
     },
     "output_type": "display_data"
    }
   ],
   "source": [
    "#ROC curve for Model2\n",
    "from sklearn.metrics import plot_roc_curve\n",
    "plot_roc_curve(clf2,X_test, y_test)\n",
    "plt.show()"
   ]
  },
  {
   "cell_type": "markdown",
   "metadata": {},
   "source": [
    "### Performing Randomized Search CV on the Model 2"
   ]
  },
  {
   "cell_type": "code",
   "execution_count": 180,
   "metadata": {},
   "outputs": [],
   "source": [
    "from scipy.stats import randint\n",
    "param_dist = {'max_depth':np.linspace(1,32,32, dtype=int),\n",
    "              \"max_features\": randint(1, 9),\n",
    "              \"min_samples_leaf\": randint(1, 9),\n",
    "              \"criterion\": [\"gini\", \"entropy\"],\n",
    "              \"random_state\":[123]}"
   ]
  },
  {
   "cell_type": "code",
   "execution_count": 181,
   "metadata": {},
   "outputs": [
    {
     "data": {
      "text/plain": [
       "RandomizedSearchCV(cv=5, estimator=DecisionTreeClassifier(), n_iter=500,\n",
       "                   n_jobs=-1,\n",
       "                   param_distributions={'criterion': ['gini', 'entropy'],\n",
       "                                        'max_depth': array([ 1,  2,  3,  4,  5,  6,  7,  8,  9, 10, 11, 12, 13, 14, 15, 16, 17,\n",
       "       18, 19, 20, 21, 22, 23, 24, 25, 26, 27, 28, 29, 30, 31, 32]),\n",
       "                                        'max_features': <scipy.stats._distn_infrastructure.rv_frozen object at 0x000001BB5B3BB100>,\n",
       "                                        'min_samples_leaf': <scipy.stats._distn_infrastructure.rv_frozen object at 0x000001BB5A67AB50>,\n",
       "                                        'random_state': [123]})"
      ]
     },
     "execution_count": 181,
     "metadata": {},
     "output_type": "execute_result"
    }
   ],
   "source": [
    "from sklearn.model_selection import RandomizedSearchCV\n",
    "\n",
    "dec_tre= DecisionTreeClassifier()\n",
    "clf2_rand= RandomizedSearchCV(dec_tre, param_dist, verbose=0,n_jobs=-1,cv=5, n_iter=500)\n",
    "clf2_rand.fit(X_train,y_train)"
   ]
  },
  {
   "cell_type": "code",
   "execution_count": 182,
   "metadata": {},
   "outputs": [
    {
     "name": "stdout",
     "output_type": "stream",
     "text": [
      "              precision    recall  f1-score   support\n",
      "\n",
      "           0       0.67      0.19      0.29        75\n",
      "           1       0.73      0.96      0.83       175\n",
      "\n",
      "    accuracy                           0.73       250\n",
      "   macro avg       0.70      0.57      0.56       250\n",
      "weighted avg       0.71      0.73      0.67       250\n",
      "\n"
     ]
    },
    {
     "data": {
      "image/png": "[encoded data removed]",
      "text/plain": [
       "<Figure size 432x288 with 2 Axes>"
      ]
     },
     "metadata": {
      "needs_background": "light"
     },
     "output_type": "display_data"
    }
   ],
   "source": [
    "y_pred= clf2_rand.predict(X_test)\n",
    "\n",
    "print(classification_report(y_test, y_pred))\n",
    "\n",
    "plot_confusion_matrix(clf2_rand,X_test, y_test)\n",
    "plt.show()"
   ]
  },
  {
   "cell_type": "code",
   "execution_count": 183,
   "metadata": {},
   "outputs": [
    {
     "data": {
      "image/png": "[encoded data removed]",
      "text/plain": [
       "<Figure size 432x288 with 1 Axes>"
      ]
     },
     "metadata": {
      "needs_background": "light"
     },
     "output_type": "display_data"
    }
   ],
   "source": [
    "#ROC curve for Model2_rand\n",
    "from sklearn.metrics import plot_roc_curve\n",
    "plot_roc_curve(clf2_rand,X_test, y_test)\n",
    "plt.show()"
   ]
  },
  {
   "cell_type": "markdown",
   "metadata": {},
   "source": [
    "### Conclusion Model 2\n",
    "This ROC curve, confusion matrix amplifies the importance of hyperparameter tuning. We had previous (Model 1) accuracy of the **67%** however, with the right hyperparameter tuning we can pull the accuracy to **73%**. On our experiment the Randomized CV performed better than the Grid Search CV. "
   ]
  },
  {
   "cell_type": "markdown",
   "metadata": {},
   "source": [
    "## Modeling With Over Sampling Method to Balance Data (Model 2)"
   ]
  },
  {
   "cell_type": "markdown",
   "metadata": {},
   "source": [
    "\"Oversampling methods duplicate or create new synthetic examples in the minority class, whereas undersampling methods delete or merge examples in the majority class. Both types of resampling can be effective when used in isolation, although can be more effective when both types of methods are used together.\" --machinelearninhmastery.com"
   ]
  },
  {
   "cell_type": "markdown",
   "metadata": {},
   "source": [
    "#### SMOTE Oversampling \n",
    "SMOTE first selects a minority class instance a at random and finds its k nearest minority class neighbors. The synthetic instance is then created by choosing one of the k nearest neighbors b at random and connecting a and b to form a line segment in the feature space. The synthetic instances are generated as a convex combination of the two chosen instances a and b.\n",
    "\n",
    "    --Page 47, Imbalanced Learning: Foundations, Algorithms, and Applications, 2013."
   ]
  },
  {
   "cell_type": "markdown",
   "metadata": {},
   "source": [
    "#### On this i will be using oversample only because I have few number of data points."
   ]
  },
  {
   "cell_type": "code",
   "execution_count": 184,
   "metadata": {},
   "outputs": [
    {
     "name": "stdout",
     "output_type": "stream",
     "text": [
      "Counter({1: 700, 0: 700})\n"
     ]
    }
   ],
   "source": [
    "#Transform the Data for SMOTE and random undersampling\n",
    "from imblearn.over_sampling import SMOTE\n",
    "from imblearn.under_sampling import RandomUnderSampler\n",
    "from sklearn.pipeline import Pipeline\n",
    "\n",
    "#oversample the data using SMOTE\n",
    "over= SMOTE()\n",
    "X_sam, y_sam= over.fit_resample(X,y)\n",
    "\n",
    "#checking the proportion of the data of the samples\n",
    "from collections import Counter\n",
    "print(Counter(y_sam))"
   ]
  },
  {
   "cell_type": "code",
   "execution_count": 185,
   "metadata": {},
   "outputs": [],
   "source": [
    "#spliting the data and modeling\n",
    "X_train, X_test, y_train, y_test= train_test_split(X_sam,y_sam,random_state=1234)"
   ]
  },
  {
   "cell_type": "code",
   "execution_count": 186,
   "metadata": {},
   "outputs": [
    {
     "data": {
      "text/plain": [
       "RandomizedSearchCV(cv=10, estimator=DecisionTreeClassifier(), n_iter=5000,\n",
       "                   n_jobs=-1,\n",
       "                   param_distributions={'criterion': ['gini', 'entropy'],\n",
       "                                        'max_depth': array([ 1,  2,  3,  4,  5,  6,  7,  8,  9, 10, 11, 12, 13, 14, 15, 16, 17,\n",
       "       18, 19, 20, 21, 22, 23, 24, 25, 26, 27, 28, 29, 30, 31, 32]),\n",
       "                                        'max_features': ['auto', 'log2'],\n",
       "                                        'min_samples_leaf': [1, 2, 3, 4, 5, 6,\n",
       "                                                             7, 8, 9],\n",
       "                                        'min_samples_split': [2, 3, 4, 5, 6, 7,\n",
       "                                                              8],\n",
       "                                        'random_state': [123]},\n",
       "                   return_train_score=True)"
      ]
     },
     "execution_count": 186,
     "metadata": {},
     "output_type": "execute_result"
    }
   ],
   "source": [
    "#Searching the best hyperparameter in the Random Space\n",
    "dec_tree= DecisionTreeClassifier()\n",
    "\n",
    "#parameter distribution \n",
    "param_dist = {'max_depth':np.linspace(1,32,32, dtype=int),\n",
    "            \"max_features\": ['auto', 'log2'],\n",
    "            \"min_samples_leaf\": [1,2,3,4,5,6,7,8,9],\n",
    "            \"criterion\": [\"gini\", \"entropy\"],\n",
    "            \"random_state\":[123],\n",
    "             \"min_samples_split\":[2,3,4,5,6,7,8]}\n",
    "\n",
    "#making the model\n",
    "clf3_rand= RandomizedSearchCV(dec_tree, param_dist, verbose=0, cv=10, n_jobs=-1, n_iter=5000, return_train_score=True)\n",
    "clf3_rand.fit(X_train, y_train)"
   ]
  },
  {
   "cell_type": "code",
   "execution_count": 187,
   "metadata": {},
   "outputs": [
    {
     "name": "stdout",
     "output_type": "stream",
     "text": [
      "              precision    recall  f1-score   support\n",
      "\n",
      "           0       0.71      0.83      0.77       180\n",
      "           1       0.79      0.65      0.71       170\n",
      "\n",
      "    accuracy                           0.74       350\n",
      "   macro avg       0.75      0.74      0.74       350\n",
      "weighted avg       0.75      0.74      0.74       350\n",
      "\n"
     ]
    },
    {
     "data": {
      "image/png": "[encoded data removed]",
      "text/plain": [
       "<Figure size 432x288 with 2 Axes>"
      ]
     },
     "metadata": {
      "needs_background": "light"
     },
     "output_type": "display_data"
    }
   ],
   "source": [
    "#Performance of the model\n",
    "y_pred= clf3_rand.predict(X_test)\n",
    "\n",
    "print(classification_report(y_test, y_pred))\n",
    "\n",
    "plot_confusion_matrix(clf3_rand,X_test, y_test)\n",
    "plt.show()"
   ]
  },
  {
   "cell_type": "code",
   "execution_count": 188,
   "metadata": {},
   "outputs": [
    {
     "data": {
      "image/png": "[encoded data removed]",
      "text/plain": [
       "<Figure size 432x288 with 1 Axes>"
      ]
     },
     "metadata": {
      "needs_background": "light"
     },
     "output_type": "display_data"
    }
   ],
   "source": [
    "#ROC Curve\n",
    "plot_roc_curve(clf3_rand_best,X_test, y_test)\n",
    "plt.show()"
   ]
  },
  {
   "cell_type": "markdown",
   "metadata": {},
   "source": [
    "### Conclusion from Model 3\n",
    "We conclude that the model accuracy increased from **73%** to **74%**. However, from the oversampling we were able to acheive a stabel precision, recall and f1-score. There is significantly improvement in those aspects. Our AUC has also increased by 0.1."
   ]
  },
  {
   "cell_type": "code",
   "execution_count": null,
   "metadata": {},
   "outputs": [],
   "source": []
  }
 ],
 "metadata": {
  "kernelspec": {
   "display_name": "Python 3.7.6 64-bit ('base': conda)",
   "language": "python",
   "name": "python37664bitbaseconda23cdc37bdc354d31a7ccddac4bd064a5"
  },
  "language_info": {
   "codemirror_mode": {
    "name": "ipython",
    "version": 3
   },
   "file_extension": ".py",
   "mimetype": "text/x-python",
   "name": "python",
   "nbconvert_exporter": "python",
   "pygments_lexer": "ipython3",
   "version": "3.8.3"
  }
 },
 "nbformat": 4,
 "nbformat_minor": 4
}
